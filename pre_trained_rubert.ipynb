{
  "nbformat": 4,
  "nbformat_minor": 0,
  "metadata": {
    "colab": {
      "name": "pre-trained_rubert.ipynb",
      "provenance": [],
      "mount_file_id": "1c2Cavg26g-rxJGSDjGgkua19iqvIszjs",
      "authorship_tag": "ABX9TyNGLVuozaI4EBskw/bipqWd",
      "include_colab_link": true
    },
    "kernelspec": {
      "name": "python3",
      "display_name": "Python 3"
    },
    "language_info": {
      "name": "python"
    }
  },
  "cells": [
    {
      "cell_type": "markdown",
      "metadata": {
        "id": "view-in-github",
        "colab_type": "text"
      },
      "source": [
        "<a href=\"https://colab.research.google.com/github/anthony-pipeline/HyperSkill/blob/main/pre_trained_rubert.ipynb\" target=\"_parent\"><img src=\"https://colab.research.google.com/assets/colab-badge.svg\" alt=\"Open In Colab\"/></a>"
      ]
    },
    {
      "cell_type": "code",
      "execution_count": 3,
      "metadata": {
        "id": "KycLRDcJrysX"
      },
      "outputs": [],
      "source": [
        "import numpy as np\n",
        "import pandas as pd\n",
        "from random import randint\n",
        "import torch\n",
        "from torch.utils.data import (TensorDataset,\n",
        "                              DataLoader,\n",
        "                              RandomSampler)\n",
        "\n",
        "from keras.preprocessing.sequence import pad_sequences\n",
        "\n",
        "from transformers import AutoConfig, AutoModelForSequenceClassification\n",
        "from transformers import AutoTokenizer\n",
        "from transformers import AdamW\n",
        "\n",
        "from sklearn.model_selection import train_test_split\n",
        "from sklearn.metrics import classification_report\n",
        "import matplotlib.pyplot as plt"
      ]
    },
    {
      "cell_type": "code",
      "source": [
        "device = torch.device('cuda' if torch.cuda.is_available() else 'cpu')\n",
        "print(torch.cuda.is_available())"
      ],
      "metadata": {
        "colab": {
          "base_uri": "https://localhost:8080/"
        },
        "id": "PPWY1_uWr7Sp",
        "outputId": "8e71e477-c5ac-4a9d-986a-b5ae89880604"
      },
      "execution_count": 4,
      "outputs": [
        {
          "output_type": "stream",
          "name": "stdout",
          "text": [
            "False\n"
          ]
        }
      ]
    },
    {
      "cell_type": "markdown",
      "source": [
        "# Подготовка данных"
      ],
      "metadata": {
        "id": "DeATIBn_6C5G"
      }
    },
    {
      "cell_type": "code",
      "source": [
        "df = pd.read_csv(\"nottoolong_reviews.csv\")"
      ],
      "metadata": {
        "id": "09r-PpEG6Hf3"
      },
      "execution_count": 5,
      "outputs": []
    },
    {
      "cell_type": "code",
      "source": [
        "df.head()"
      ],
      "metadata": {
        "colab": {
          "base_uri": "https://localhost:8080/",
          "height": 206
        },
        "id": "rZ4T2dhl6c9R",
        "outputId": "9f0c4143-58d1-4cc0-ed55-2d13b64d1d8c"
      },
      "execution_count": 6,
      "outputs": [
        {
          "output_type": "execute_result",
          "data": {
            "text/plain": [
              "                                            feedback    rating\n",
              "0  Был в отделении Абсолют Банка на Кутузовском п...  POSITIVE\n",
              "1  У банка не работало приложение с 1 по 4 мая, у...  NEGATIVE\n",
              "2  Хочу поделиться впечатлением от посещения банк...  POSITIVE\n",
              "3  Не первый год являюсь партнером Абсолют банка....  POSITIVE\n",
              "4  Обслуживание в интернет банке не заслуживает н...  NEGATIVE"
            ],
            "text/html": [
              "\n",
              "  <div id=\"df-3899974a-0d84-4f82-bf0b-bf64a589ea7d\">\n",
              "    <div class=\"colab-df-container\">\n",
              "      <div>\n",
              "<style scoped>\n",
              "    .dataframe tbody tr th:only-of-type {\n",
              "        vertical-align: middle;\n",
              "    }\n",
              "\n",
              "    .dataframe tbody tr th {\n",
              "        vertical-align: top;\n",
              "    }\n",
              "\n",
              "    .dataframe thead th {\n",
              "        text-align: right;\n",
              "    }\n",
              "</style>\n",
              "<table border=\"1\" class=\"dataframe\">\n",
              "  <thead>\n",
              "    <tr style=\"text-align: right;\">\n",
              "      <th></th>\n",
              "      <th>feedback</th>\n",
              "      <th>rating</th>\n",
              "    </tr>\n",
              "  </thead>\n",
              "  <tbody>\n",
              "    <tr>\n",
              "      <th>0</th>\n",
              "      <td>Был в отделении Абсолют Банка на Кутузовском п...</td>\n",
              "      <td>POSITIVE</td>\n",
              "    </tr>\n",
              "    <tr>\n",
              "      <th>1</th>\n",
              "      <td>У банка не работало приложение с 1 по 4 мая, у...</td>\n",
              "      <td>NEGATIVE</td>\n",
              "    </tr>\n",
              "    <tr>\n",
              "      <th>2</th>\n",
              "      <td>Хочу поделиться впечатлением от посещения банк...</td>\n",
              "      <td>POSITIVE</td>\n",
              "    </tr>\n",
              "    <tr>\n",
              "      <th>3</th>\n",
              "      <td>Не первый год являюсь партнером Абсолют банка....</td>\n",
              "      <td>POSITIVE</td>\n",
              "    </tr>\n",
              "    <tr>\n",
              "      <th>4</th>\n",
              "      <td>Обслуживание в интернет банке не заслуживает н...</td>\n",
              "      <td>NEGATIVE</td>\n",
              "    </tr>\n",
              "  </tbody>\n",
              "</table>\n",
              "</div>\n",
              "      <button class=\"colab-df-convert\" onclick=\"convertToInteractive('df-3899974a-0d84-4f82-bf0b-bf64a589ea7d')\"\n",
              "              title=\"Convert this dataframe to an interactive table.\"\n",
              "              style=\"display:none;\">\n",
              "        \n",
              "  <svg xmlns=\"http://www.w3.org/2000/svg\" height=\"24px\"viewBox=\"0 0 24 24\"\n",
              "       width=\"24px\">\n",
              "    <path d=\"M0 0h24v24H0V0z\" fill=\"none\"/>\n",
              "    <path d=\"M18.56 5.44l.94 2.06.94-2.06 2.06-.94-2.06-.94-.94-2.06-.94 2.06-2.06.94zm-11 1L8.5 8.5l.94-2.06 2.06-.94-2.06-.94L8.5 2.5l-.94 2.06-2.06.94zm10 10l.94 2.06.94-2.06 2.06-.94-2.06-.94-.94-2.06-.94 2.06-2.06.94z\"/><path d=\"M17.41 7.96l-1.37-1.37c-.4-.4-.92-.59-1.43-.59-.52 0-1.04.2-1.43.59L10.3 9.45l-7.72 7.72c-.78.78-.78 2.05 0 2.83L4 21.41c.39.39.9.59 1.41.59.51 0 1.02-.2 1.41-.59l7.78-7.78 2.81-2.81c.8-.78.8-2.07 0-2.86zM5.41 20L4 18.59l7.72-7.72 1.47 1.35L5.41 20z\"/>\n",
              "  </svg>\n",
              "      </button>\n",
              "      \n",
              "  <style>\n",
              "    .colab-df-container {\n",
              "      display:flex;\n",
              "      flex-wrap:wrap;\n",
              "      gap: 12px;\n",
              "    }\n",
              "\n",
              "    .colab-df-convert {\n",
              "      background-color: #E8F0FE;\n",
              "      border: none;\n",
              "      border-radius: 50%;\n",
              "      cursor: pointer;\n",
              "      display: none;\n",
              "      fill: #1967D2;\n",
              "      height: 32px;\n",
              "      padding: 0 0 0 0;\n",
              "      width: 32px;\n",
              "    }\n",
              "\n",
              "    .colab-df-convert:hover {\n",
              "      background-color: #E2EBFA;\n",
              "      box-shadow: 0px 1px 2px rgba(60, 64, 67, 0.3), 0px 1px 3px 1px rgba(60, 64, 67, 0.15);\n",
              "      fill: #174EA6;\n",
              "    }\n",
              "\n",
              "    [theme=dark] .colab-df-convert {\n",
              "      background-color: #3B4455;\n",
              "      fill: #D2E3FC;\n",
              "    }\n",
              "\n",
              "    [theme=dark] .colab-df-convert:hover {\n",
              "      background-color: #434B5C;\n",
              "      box-shadow: 0px 1px 3px 1px rgba(0, 0, 0, 0.15);\n",
              "      filter: drop-shadow(0px 1px 2px rgba(0, 0, 0, 0.3));\n",
              "      fill: #FFFFFF;\n",
              "    }\n",
              "  </style>\n",
              "\n",
              "      <script>\n",
              "        const buttonEl =\n",
              "          document.querySelector('#df-3899974a-0d84-4f82-bf0b-bf64a589ea7d button.colab-df-convert');\n",
              "        buttonEl.style.display =\n",
              "          google.colab.kernel.accessAllowed ? 'block' : 'none';\n",
              "\n",
              "        async function convertToInteractive(key) {\n",
              "          const element = document.querySelector('#df-3899974a-0d84-4f82-bf0b-bf64a589ea7d');\n",
              "          const dataTable =\n",
              "            await google.colab.kernel.invokeFunction('convertToInteractive',\n",
              "                                                     [key], {});\n",
              "          if (!dataTable) return;\n",
              "\n",
              "          const docLinkHtml = 'Like what you see? Visit the ' +\n",
              "            '<a target=\"_blank\" href=https://colab.research.google.com/notebooks/data_table.ipynb>data table notebook</a>'\n",
              "            + ' to learn more about interactive tables.';\n",
              "          element.innerHTML = '';\n",
              "          dataTable['output_type'] = 'display_data';\n",
              "          await google.colab.output.renderOutput(dataTable, element);\n",
              "          const docLink = document.createElement('div');\n",
              "          docLink.innerHTML = docLinkHtml;\n",
              "          element.appendChild(docLink);\n",
              "        }\n",
              "      </script>\n",
              "    </div>\n",
              "  </div>\n",
              "  "
            ]
          },
          "metadata": {},
          "execution_count": 6
        }
      ]
    },
    {
      "cell_type": "markdown",
      "source": [
        "## Функция для индексации категорий\n"
      ],
      "metadata": {
        "id": "vY4Hclk0-WIn"
      }
    },
    {
      "cell_type": "code",
      "source": [
        "df.rating.unique()"
      ],
      "metadata": {
        "colab": {
          "base_uri": "https://localhost:8080/"
        },
        "id": "C_NRJSsf_RVt",
        "outputId": "3b7ba7a7-886d-4cea-f060-f7d43d8d06ba"
      },
      "execution_count": 7,
      "outputs": [
        {
          "output_type": "execute_result",
          "data": {
            "text/plain": [
              "array(['POSITIVE', 'NEGATIVE', 'NEUTRAL'], dtype=object)"
            ]
          },
          "metadata": {},
          "execution_count": 7
        }
      ]
    },
    {
      "cell_type": "code",
      "source": [
        "def make_index(x):\n",
        "  if x == \"POSITIVE\":\n",
        "    return 2\n",
        "  if x == \"NEUTRAL\":\n",
        "    return 1\n",
        "  if x == \"NEGATIVE\":\n",
        "    return 0"
      ],
      "metadata": {
        "id": "7j-g4eRx--hZ"
      },
      "execution_count": 8,
      "outputs": []
    },
    {
      "cell_type": "code",
      "source": [
        "df[\"rating\"] = df[\"rating\"].apply(lambda x: make_index(x))"
      ],
      "metadata": {
        "id": "PtizNvkr68o4"
      },
      "execution_count": 9,
      "outputs": []
    },
    {
      "cell_type": "code",
      "source": [
        "df.rating.unique()"
      ],
      "metadata": {
        "colab": {
          "base_uri": "https://localhost:8080/"
        },
        "id": "96B95JKU_mPg",
        "outputId": "3ba1d357-2461-4580-ec43-a9e4445028bc"
      },
      "execution_count": 10,
      "outputs": [
        {
          "output_type": "execute_result",
          "data": {
            "text/plain": [
              "array([2, 0, 1])"
            ]
          },
          "metadata": {},
          "execution_count": 10
        }
      ]
    },
    {
      "cell_type": "code",
      "source": [
        "sentences = df.feedback.values\n",
        "labels = df.rating.values"
      ],
      "metadata": {
        "id": "i7o7LbLhANx-"
      },
      "execution_count": 11,
      "outputs": []
    },
    {
      "cell_type": "markdown",
      "source": [
        "# Сначала токенайзер"
      ],
      "metadata": {
        "id": "gMBGKE3w5MIr"
      }
    },
    {
      "cell_type": "code",
      "source": [
        "tokenizer = torch.hub.load('huggingface/pytorch-transformers', 'tokenizer', 'DeepPavlov/rubert-base-cased')"
      ],
      "metadata": {
        "colab": {
          "base_uri": "https://localhost:8080/"
        },
        "id": "rXfx1DD6uhR3",
        "outputId": "a13e635a-ef53-45fc-df88-29c5a1796ac1"
      },
      "execution_count": 12,
      "outputs": [
        {
          "output_type": "stream",
          "name": "stderr",
          "text": [
            "Using cache found in /root/.cache/torch/hub/huggingface_pytorch-transformers_main\n"
          ]
        }
      ]
    },
    {
      "cell_type": "markdown",
      "source": [
        "Теперь подготовленный датасет нужно токенизировать. Для этого мы воспользуемся уже предобученным токенизатором, идущим вместе с моделью от DeepPavlov.\n",
        "\n",
        "Каждый сэмпл мы приведём к виду, который требуется Берту, затем разобъём выборку на обучающую и отложенную, для последующей проверки качества.\n",
        "\n",
        "Специальные токены Берта:\n",
        "\n",
        "    [CLS] - начало последовательности\n",
        "    [SEP] - разделение двух предложений\n",
        "\n",
        "Мы будем обрамлять наши сэмплы этими токенами."
      ],
      "metadata": {
        "id": "NaW0vtsQCwT2"
      }
    },
    {
      "cell_type": "code",
      "source": [
        "sentences = ['[CLS] ' + sentence + ' [SEP]' for sentence in sentences]"
      ],
      "metadata": {
        "id": "MnmJkmpW5okl"
      },
      "execution_count": 13,
      "outputs": []
    },
    {
      "cell_type": "code",
      "source": [
        "train_sentences, test_sentences, train_category, test_category = train_test_split(sentences, labels, test_size=0.1)"
      ],
      "metadata": {
        "id": "VFkJEe-cC43z"
      },
      "execution_count": 14,
      "outputs": []
    },
    {
      "cell_type": "code",
      "source": [
        "# Токенизируем обучающую выборку\n",
        "tokenized_texts = [tokenizer.tokenize(sent) for sent in train_sentences]"
      ],
      "metadata": {
        "id": "qNCUGVW3DzJu"
      },
      "execution_count": 15,
      "outputs": []
    },
    {
      "cell_type": "code",
      "source": [
        "print(tokenized_texts[432])"
      ],
      "metadata": {
        "colab": {
          "base_uri": "https://localhost:8080/"
        },
        "id": "4K8ib17aD__E",
        "outputId": "c1fb2ca7-1f72-43dc-ea59-a95e701cfc16"
      },
      "execution_count": 16,
      "outputs": [
        {
          "output_type": "stream",
          "name": "stdout",
          "text": [
            "['[CLS]', 'Постоянно', 'отврат', '##ительное', 'обслуживание', 'и', 'отношение', 'к', 'клиентам', '.', 'Раньше', 'у', 'ВТБ', 'был', 'рекламный', 'слоган', '\"', 'Дальше', '-', 'Больше', '\"', '-', 'банк', 'безусловно', 'продолжает', 'воплощ', '##ать', 'этот', 'слоган', 'в', 'жизнь', '.', 'Ну', 'не', 'нужны', 'банку', 'клиенты', '!', 'Потреб', '##овалось', '15', '.', '11', '.', '19', 'снять', 'с', 'деб', '##етов', '##ой', 'карты', 'незначительную', 'налич', '##ность', ',', 'ни', 'в', 'одном', 'из', 'банкоматов', 'отделения', 'не', 'оказалось', 'налич', '##ности', 'от', 'слова', '\"', 'совсем', '\"', '(', 'например', 'банком', '##ат', '397', '##11', '##9', ')', ',', 'даже', 'без', 'запроса', 'суммы', '-', 'снятие', 'наличных', 'невозможно', '.', 'Лад', '##но', ',', 'время', '18', ':', '44', 'посетителей', 'в', 'отделении', 'почти', 'нет', ',', 'трое', 'опера', '##цион', '##истов', 'усердно', 'смотрят', 'в', 'свои', 'мониторы', ',', 'отделение', 'работает', 'до', '20', ':', '00', '.', 'Бер', '##у', 'тал', '##он', 'электронной', 'очереди', 'j', '##01', '##7', ',', 'объясня', '##ю', 'опера', '##цион', '##исту', 'ситуацию', ',', 'прошу', 'выдать', 'деньги', 'через', 'кассу', ',', 'получ', '##аю', 'ответ', ',', 'что', 'в', 'касс', '##е', 'денег', 'тоже', 'нет', '.', 'Спр', '##аши', '##ва', '##ю', ',', 'как', 'так', '-', 'то', ',', 'до', 'закрытия', 'офиса', 'больше', 'часа', '.', 'Что', 'тысячи', 'рублей', 'тоже', 'нет', '?', 'Говорят', ',', 'а', 'нет', '##у', ',', 'ищ', '##ите', 'другой', 'банком', '##ат', 'или', 'офис', '!', 'Прошу', 'пригласить', 'руководителя', '(', 'либо', 'старшего', ')', ',', 'предоставить', 'книгу', 'жалоб', '.', 'Отвеч', '##ают', ',', 'что', 'руководитель', 'уже', 'давно', 'дома', 'отдыха', '##ет', ',', 'а', 'старшего', 'у', 'них', 'нет', ',', 'они', 'сами', 'по', 'себе', ',', 'книги', 'жалоб', '-', 'тоже', 'нет', ',', 'а', 'если', 'что', '-', 'то', 'не', 'нравится', 'звонит', '##е', 'на', 'телефон', 'горячей', 'линии', '.', 'Хорошо', ',', 'звон', '##ю', 'на', 'телефон', 'горячей', 'линии', ',', 'прошу', 'принять', 'жалобу', '-', 'оператор', '025', '##44', 'требует', 'предоставить', 'дату', 'моего', 'рождения', ',', 'вн', '##ятно', 'обосновать', 'законность', 'этого', 'требования', 'не', 'может', ',', 'соответственно', 'отказывается', 'принять', 'жалобу', '!', 'Зан', '##аве', '##с', '!', 'Из', '-', 'за', 'цифров', '##изации', 'ВТБ', 'все', 'берега', 'уже', 'давно', 'потерял', 'и', 'чем', 'Дальше', ',', 'тем', 'Больше', '.', '[SEP]']\n"
          ]
        }
      ]
    },
    {
      "cell_type": "code",
      "source": [
        "# индексы токенов\n",
        "input_ids = [tokenizer.convert_tokens_to_ids(i) for i in tokenized_texts]"
      ],
      "metadata": {
        "id": "KRtt0cugFyzn"
      },
      "execution_count": null,
      "outputs": []
    },
    {
      "cell_type": "code",
      "source": [
        ""
      ],
      "metadata": {
        "id": "3pPJ8zlUGxuM"
      },
      "execution_count": null,
      "outputs": []
    }
  ]
}